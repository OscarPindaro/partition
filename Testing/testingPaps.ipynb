{
 "cells": [
  {
   "cell_type": "code",
   "execution_count": 1,
   "metadata": {},
   "outputs": [],
   "source": [
    "import csv"
   ]
  },
  {
   "cell_type": "code",
   "execution_count": 2,
   "metadata": {},
   "outputs": [],
   "source": [
    "import matplotlib.pyplot as plt"
   ]
  },
  {
   "cell_type": "code",
   "execution_count": 3,
   "metadata": {},
   "outputs": [],
   "source": [
    "from matplotlib.ticker import FormatStrFormatter"
   ]
  },
  {
   "cell_type": "code",
   "execution_count": 4,
   "metadata": {},
   "outputs": [],
   "source": [
    "with open('performance.csv', 'r') as file:\n",
    "    reader=csv.DictReader(file)\n",
    "    inputs = []\n",
    "    for line in reader:\n",
    "        inputs.append(line)\n"
   ]
  },
  {
   "cell_type": "code",
   "execution_count": 5,
   "metadata": {},
   "outputs": [
    {
     "data": {
      "text/plain": [
       "dict_keys(['Number of nodes', 'Delay Threshold', 'MaxSize', 'WorstTimeElapsed', 'MediumTimeElapsed', 'Mediana'])"
      ]
     },
     "execution_count": 5,
     "metadata": {},
     "output_type": "execute_result"
    }
   ],
   "source": [
    "inputs[0].keys()"
   ]
  },
  {
   "cell_type": "code",
   "execution_count": 6,
   "metadata": {},
   "outputs": [],
   "source": [
    "numberOfNodes = [int(x[\"Number of nodes\"]) for x in inputs if x[\"Delay Threshold\"]=='0.1' if x[\"MaxSize\"]=='10']"
   ]
  },
  {
   "cell_type": "code",
   "execution_count": 7,
   "metadata": {},
   "outputs": [
    {
     "data": {
      "text/plain": [
       "[10, 20, 50, 100, 200, 500, 1000, 2000, 5000]"
      ]
     },
     "execution_count": 7,
     "metadata": {},
     "output_type": "execute_result"
    }
   ],
   "source": [
    "numberOfNodes"
   ]
  },
  {
   "cell_type": "code",
   "execution_count": 8,
   "metadata": {},
   "outputs": [],
   "source": [
    "delays = [float(x[\"Delay Threshold\"])  for x in inputs if x[\"Number of nodes\"]=='10' if x[\"MaxSize\"]=='10']"
   ]
  },
  {
   "cell_type": "code",
   "execution_count": 9,
   "metadata": {},
   "outputs": [
    {
     "data": {
      "text/plain": [
       "[0.1, 0.3, 0.5, 0.7]"
      ]
     },
     "execution_count": 9,
     "metadata": {},
     "output_type": "execute_result"
    }
   ],
   "source": [
    "delays"
   ]
  },
  {
   "cell_type": "code",
   "execution_count": 10,
   "metadata": {},
   "outputs": [],
   "source": [
    "maxSize =  [int(x[\"MaxSize\"]) for x in inputs if x[\"Delay Threshold\"]=='0.1' if x[\"Number of nodes\"]=='10']"
   ]
  },
  {
   "cell_type": "code",
   "execution_count": 11,
   "metadata": {},
   "outputs": [
    {
     "data": {
      "text/plain": [
       "[10, 25, 50]"
      ]
     },
     "execution_count": 11,
     "metadata": {},
     "output_type": "execute_result"
    }
   ],
   "source": [
    "maxSize"
   ]
  },
  {
   "cell_type": "markdown",
   "metadata": {},
   "source": [
    "# Time in function of number of nodes"
   ]
  },
  {
   "cell_type": "code",
   "execution_count": 12,
   "metadata": {},
   "outputs": [],
   "source": [
    "timeDelay01=[int(x[\"Mediana\"])/1000 if x[\"Mediana\"]!='ZZZ' else 0.001 for x in inputs if x[\"Delay Threshold\"]=='0.1' if x[\"MaxSize\"]=='25']"
   ]
  },
  {
   "cell_type": "code",
   "execution_count": 13,
   "metadata": {},
   "outputs": [],
   "source": [
    "timeDelay03=[int(x[\"Mediana\"])/1000 if x[\"Mediana\"]!='ZZZ' else 0.001 for x in inputs if x[\"Delay Threshold\"]=='0.3' if x[\"MaxSize\"]=='25']"
   ]
  },
  {
   "cell_type": "code",
   "execution_count": 14,
   "metadata": {},
   "outputs": [],
   "source": [
    "timeDelay05=[int(x[\"Mediana\"])/1000 if x[\"Mediana\"]!='ZZZ' else 0.001 for x in inputs if x[\"Delay Threshold\"]=='0.5' if x[\"MaxSize\"]=='25']"
   ]
  },
  {
   "cell_type": "code",
   "execution_count": 15,
   "metadata": {},
   "outputs": [],
   "source": [
    "timeDelay07=[int(x[\"Mediana\"])/1000 if x[\"Mediana\"]!='ZZZ' else 0.001 for x in inputs if x[\"Delay Threshold\"]=='0.7' if x[\"MaxSize\"]=='25']"
   ]
  },
  {
   "cell_type": "code",
   "execution_count": 16,
   "metadata": {},
   "outputs": [
    {
     "data": {
      "image/png": "[encoded data removed]",
      "text/plain": [
       "<Figure size 432x288 with 1 Axes>"
      ]
     },
     "metadata": {
      "needs_background": "light"
     },
     "output_type": "display_data"
    }
   ],
   "source": [
    "plt.plot(numberOfNodes, timeDelay01, 'o-', label='delay threshold=0.1')\n",
    "plt.plot(numberOfNodes, timeDelay03, 'o-', label='delay threshold=0.3')\n",
    "plt.plot(numberOfNodes, timeDelay05, 'o-', label='delay threshold=0.5')\n",
    "plt.plot(numberOfNodes, timeDelay07, 'o-', label='delay threshold=0.7')\n",
    "plt.legend()\n",
    "#plt.title(\"Time in function of nodes\")\n",
    "plt.xlabel(\"#nodes\")\n",
    "plt.ylabel(\"time\")\n",
    "plt.gca().yaxis.set_major_formatter(FormatStrFormatter('%d s'))\n",
    "plt.xscale('log')\n",
    "plt.savefig(\"node.png\")"
   ]
  },
  {
   "cell_type": "markdown",
   "metadata": {},
   "source": [
    "# Time in function of delay Threshold"
   ]
  },
  {
   "cell_type": "code",
   "execution_count": 17,
   "metadata": {},
   "outputs": [],
   "source": [
    "timeNodes1000=[float(x[\"Mediana\"])/1000 if x[\"Mediana\"]!='ZZZ' else 0 for x in inputs if x[\"Number of nodes\"]=='1000' if x[\"MaxSize\"]=='25']\n",
    "\n",
    "timeNodes1000=[x/max(timeNodes1000) for x in timeNodes1000]"
   ]
  },
  {
   "cell_type": "code",
   "execution_count": 18,
   "metadata": {},
   "outputs": [
    {
     "data": {
      "text/plain": [
       "[0.15493910690121787, 0.45940460081190804, 0.6650879566982408, 1.0]"
      ]
     },
     "execution_count": 18,
     "metadata": {},
     "output_type": "execute_result"
    }
   ],
   "source": [
    "timeNodes1000"
   ]
  },
  {
   "cell_type": "code",
   "execution_count": 19,
   "metadata": {},
   "outputs": [],
   "source": [
    "timeNodes2000=[float(x[\"Mediana\"])/1000 if x[\"Mediana\"]!='ZZZ' else 0 for x in inputs if x[\"Number of nodes\"]=='2000' if x[\"MaxSize\"]=='25']\n",
    "timeNodes2000=[x/max(timeNodes2000) for x in timeNodes2000]"
   ]
  },
  {
   "cell_type": "code",
   "execution_count": 20,
   "metadata": {},
   "outputs": [
    {
     "data": {
      "text/plain": [
       "[0.1560886032365431, 0.44955813152760243, 0.7157121542522668, 1.0]"
      ]
     },
     "execution_count": 20,
     "metadata": {},
     "output_type": "execute_result"
    }
   ],
   "source": [
    "timeNodes2000"
   ]
  },
  {
   "cell_type": "code",
   "execution_count": 21,
   "metadata": {},
   "outputs": [],
   "source": [
    "timeNodes5000=[float(x[\"Mediana\"])/1000 if x[\"Mediana\"]!='ZZZ' else 0 for x in inputs if x[\"Number of nodes\"]=='5000' if x[\"MaxSize\"]=='25']\n",
    "timeNodes5000=[x/max(timeNodes5000) for x in timeNodes5000]"
   ]
  },
  {
   "cell_type": "code",
   "execution_count": 22,
   "metadata": {},
   "outputs": [
    {
     "data": {
      "text/plain": [
       "[0.14792405774702305, 0.42619164705469104, 0.7102111068179423, 1.0]"
      ]
     },
     "execution_count": 22,
     "metadata": {},
     "output_type": "execute_result"
    }
   ],
   "source": [
    "timeNodes5000"
   ]
  },
  {
   "cell_type": "code",
   "execution_count": 23,
   "metadata": {},
   "outputs": [
    {
     "data": {
      "text/plain": [
       "Text(0, 0.5, 'time')"
      ]
     },
     "execution_count": 23,
     "metadata": {},
     "output_type": "execute_result"
    },
    {
     "data": {
      "image/png": "[encoded data removed]",
      "text/plain": [
       "<Figure size 432x288 with 1 Axes>"
      ]
     },
     "metadata": {
      "needs_background": "light"
     },
     "output_type": "display_data"
    }
   ],
   "source": [
    "plt.plot(delays, timeNodes1000, 'o-', label='nodes=1000')\n",
    "plt.plot(delays, timeNodes2000, '*-', label='nodes=2000')\n",
    "plt.plot(delays, timeNodes5000, 'v-',label='nodes=5000')\n",
    "plt.legend()\n",
    "plt.title(\"Time in function of percantage of edges with 1000\")\n",
    "plt.xlabel(\"delayThreshold\")\n",
    "plt.ylabel(\"time\")"
   ]
  },
  {
   "cell_type": "code",
   "execution_count": 24,
   "metadata": {},
   "outputs": [
    {
     "data": {
      "image/png": "[encoded data removed]",
      "text/plain": [
       "<Figure size 432x288 with 1 Axes>"
      ]
     },
     "metadata": {
      "needs_background": "light"
     },
     "output_type": "display_data"
    }
   ],
   "source": [
    "plt.plot(delays, timeNodes2000, 'o-')\n",
    "#plt.legend()\n",
    "#plt.title(\"Performance vs percentage of edges with 2000\")\n",
    "plt.xlabel(\"delayThreshold\")\n",
    "plt.ylabel(\"time\")\n",
    "plt.gca().yaxis.set_major_formatter(FormatStrFormatter('%.0f s'))"
   ]
  },
  {
   "cell_type": "code",
   "execution_count": 25,
   "metadata": {},
   "outputs": [],
   "source": [
    "timeNodes5000=[float(x[\"Mediana\"])/1000 if x[\"Mediana\"]!='ZZZ' else 0 for x in inputs if x[\"Number of nodes\"]=='5000' if x[\"MaxSize\"]=='25']"
   ]
  },
  {
   "cell_type": "code",
   "execution_count": 26,
   "metadata": {},
   "outputs": [
    {
     "data": {
      "image/png": "[encoded data removed]",
      "text/plain": [
       "<Figure size 432x288 with 1 Axes>"
      ]
     },
     "metadata": {
      "needs_background": "light"
     },
     "output_type": "display_data"
    }
   ],
   "source": [
    "plt.plot(delays, timeNodes5000, 'o-')\n",
    "#plt.legend()\n",
    "#plt.title(\"Performance vs percentage of edges\")\n",
    "plt.xlabel(\"delayThreshold\")\n",
    "plt.ylabel(\"time\")\n",
    "plt.gca().yaxis.set_major_formatter(FormatStrFormatter('%.f s'))"
   ]
  },
  {
   "cell_type": "markdown",
   "metadata": {},
   "source": [
    "# Performance wrt community size"
   ]
  },
  {
   "cell_type": "code",
   "execution_count": 27,
   "metadata": {},
   "outputs": [
    {
     "data": {
      "text/plain": [
       "[10, 20, 50, 100, 200, 500, 1000, 2000, 5000]"
      ]
     },
     "execution_count": 27,
     "metadata": {},
     "output_type": "execute_result"
    }
   ],
   "source": [
    "numberOfNodes"
   ]
  },
  {
   "cell_type": "code",
   "execution_count": 28,
   "metadata": {},
   "outputs": [],
   "source": [
    "newNodes = [x for x in numberOfNodes if x >=50 and x <=5000]"
   ]
  },
  {
   "cell_type": "code",
   "execution_count": 29,
   "metadata": {},
   "outputs": [
    {
     "data": {
      "text/plain": [
       "[50, 100, 200, 500, 1000, 2000, 5000]"
      ]
     },
     "execution_count": 29,
     "metadata": {},
     "output_type": "execute_result"
    }
   ],
   "source": [
    "newNodes"
   ]
  },
  {
   "cell_type": "code",
   "execution_count": 30,
   "metadata": {},
   "outputs": [],
   "source": [
    "performance=[]\n",
    "for n in newNodes:\n",
    "    times = [float(x[\"Mediana\"])/1000 if x[\"Mediana\"]!='ZZZ' else 0 for x in inputs if x[\"Number of nodes\"]==str(n) if x[\"Delay Threshold\"]=='0.5']\n",
    "    performance.append(times)\n",
    "    if(n ==20):\n",
    "        print(times)"
   ]
  },
  {
   "cell_type": "code",
   "execution_count": 34,
   "metadata": {
    "scrolled": true
   },
   "outputs": [
    {
     "data": {
      "image/png": "[encoded data removed]",
      "text/plain": [
       "<Figure size 432x288 with 1 Axes>"
      ]
     },
     "metadata": {
      "needs_background": "light"
     },
     "output_type": "display_data"
    }
   ],
   "source": [
    "for p in performance:\n",
    "    plt.plot(maxSize, p, 'o-', label=\"#nodes=\"+str(newNodes[performance.index(p)]))\n",
    "    plt.legend(bbox_to_anchor=(1.04,1), borderaxespad=1)\n",
    "    #plt.title(\"RR with different community sizes\")\n",
    "    plt.xlabel(\"community size\")\n",
    "    plt.ylabel(\"time\")\n",
    "    plt.gca().yaxis.set_major_formatter(FormatStrFormatter('%.0f s'))\n",
    "    plt.yscale('log')\n",
    "    plt.savefig(\"communitySizeaaaaa.png\")"
   ]
  },
  {
   "cell_type": "code",
   "execution_count": null,
   "metadata": {},
   "outputs": [],
   "source": []
  }
 ],
 "metadata": {
  "kernelspec": {
   "display_name": "Python 3",
   "language": "python",
   "name": "python3"
  },
  "language_info": {
   "codemirror_mode": {
    "name": "ipython",
    "version": 3
   },
   "file_extension": ".py",
   "mimetype": "text/x-python",
   "name": "python",
   "nbconvert_exporter": "python",
   "pygments_lexer": "ipython3",
   "version": "3.8.3"
  }
 },
 "nbformat": 4,
 "nbformat_minor": 4
}
